{
  "nbformat": 4,
  "nbformat_minor": 0,
  "metadata": {
    "colab": {
      "provenance": [],
      "gpuType": "L4",
      "authorship_tag": "ABX9TyPspKQFdeLjbObiDOdSl1cT",
      "include_colab_link": true
    },
    "kernelspec": {
      "name": "python3",
      "display_name": "Python 3"
    },
    "language_info": {
      "name": "python"
    },
    "accelerator": "GPU"
  },
  "cells": [
    {
      "cell_type": "markdown",
      "metadata": {
        "id": "view-in-github",
        "colab_type": "text"
      },
      "source": [
        "<a href=\"https://colab.research.google.com/github/ljkrajewski/FramePack-Colab/blob/main/FramePack-colab.ipynb\" target=\"_parent\"><img src=\"https://colab.research.google.com/assets/colab-badge.svg\" alt=\"Open In Colab\"/></a>"
      ]
    },
    {
      "cell_type": "code",
      "source": [
        "%cd /content\n",
        "!pip install torch torchvision torchaudio --index-url https://download.pytorch.org/whl/cu126\n",
        "!git clone https://github.com/ljkrajewski/FramePack-Colab.git\n",
        "%cd FramePack-Colab\n",
        "!pip install -r requirements.txt"
      ],
      "metadata": {
        "id": "ez800gMt6mWO"
      },
      "execution_count": null,
      "outputs": []
    },
    {
      "cell_type": "markdown",
      "source": [
        "## When the notebook \"crashes,\" restart with the next cell."
      ],
      "metadata": {
        "id": "1N6jW9JmQlaD"
      }
    },
    {
      "cell_type": "code",
      "source": [
        "%cd /content/FramePack\n",
        "!python demo_gradio.py --share"
      ],
      "metadata": {
        "id": "UiEPNcci7VuM"
      },
      "execution_count": null,
      "outputs": []
    }
  ]
}