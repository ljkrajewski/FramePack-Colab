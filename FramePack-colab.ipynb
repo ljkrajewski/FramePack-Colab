{
  "nbformat": 4,
  "nbformat_minor": 0,
  "metadata": {
    "colab": {
      "provenance": [],
      "gpuType": "L4",
      "include_colab_link": true
    },
    "kernelspec": {
      "name": "python3",
      "display_name": "Python 3"
    },
    "language_info": {
      "name": "python"
    },
    "accelerator": "GPU"
  },
  "cells": [
    {
      "cell_type": "markdown",
      "metadata": {
        "id": "view-in-github",
        "colab_type": "text"
      },
      "source": [
        "<a href=\"https://colab.research.google.com/github/ljkrajewski/FramePack-Colab/blob/main/FramePack-colab.ipynb\" target=\"_parent\"><img src=\"https://colab.research.google.com/assets/colab-badge.svg\" alt=\"Open In Colab\"/></a>"
      ]
    },
    {
      "cell_type": "code",
      "source": [
        "%cd /content\n",
        "!pip install torch torchvision torchaudio --index-url https://download.pytorch.org/whl/cu126\n",
        "!git clone https://github.com/ljkrajewski/FramePack-Colab.git\n",
        "%cd FramePack-Colab\n",
        "!pip install -r requirements.txt"
      ],
      "metadata": {
        "id": "ez800gMt6mWO"
      },
      "execution_count": null,
      "outputs": []
    },
    {
      "cell_type": "markdown",
      "source": [
        "## When the notebook \"crashes,\" restart with the next cell."
      ],
      "metadata": {
        "id": "1N6jW9JmQlaD"
      }
    },
    {
      "cell_type": "code",
      "source": [
        "#@title Connect Google Drive\n",
        "from google.colab import drive\n",
        "from IPython.display import clear_output\n",
        "import ipywidgets as widgets\n",
        "import os\n",
        "from datetime import datetime\n",
        "\n",
        "def inf(msg, style, wdth): inf = widgets.Button(description=msg, disabled=True, button_style=style, layout=widgets.Layout(min_width=wdth));display(inf)\n",
        "#Connect_Google_drive = False #@param {type:\"boolean\"}\n",
        "#@markdown (optional) Leave \"Directory_name\" blank for default directory name.\n",
        "Directory_name = \"video_test\" #@param {type:\"string\"}\n",
        "\"\"\"\n",
        "if Connect_Google_drive:\n",
        "  print(\"Connecting...\")\n",
        "  drive.mount('/content/gdrive')\n",
        "  mainpth=\"/content/gdrive/MyDrive\"\n",
        "else:\n",
        "  mainpth=\"/content\"\n",
        "\"\"\"\n",
        "\n",
        "if Directory_name == \"\":\n",
        "  %env VIDEOPATH=\"\"\n",
        "else:\n",
        "  print(\"Connecting...\")\n",
        "  drive.mount('/content/gdrive')\n",
        "  mainpth=\"/content/gdrive/MyDrive\"\n",
        "  #now = datetime.now()\n",
        "  #timestamp = now.strftime(\"%Y-%m-%d_%H-%M-%S\")\n",
        "  #Directory_name = f\"flux-{timestamp}\"\n",
        "  video_path = f'{mainpth}/{Directory_name}'\n",
        "  if not os.path.exists(video_path):\n",
        "    !mkdir -p $video_path\n",
        "  %env VIDEOPATH=$video_path"
      ],
      "metadata": {
        "id": "aDMuCLd0KcrQ",
        "cellView": "form"
      },
      "execution_count": null,
      "outputs": []
    },
    {
      "cell_type": "code",
      "source": [
        "%cd /content/FramePack-Colab\n",
        "!python demo_gradio.py --share"
      ],
      "metadata": {
        "id": "UiEPNcci7VuM"
      },
      "execution_count": null,
      "outputs": []
    }
  ]
}